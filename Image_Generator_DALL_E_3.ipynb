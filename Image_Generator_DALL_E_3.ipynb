{
  "nbformat": 4,
  "nbformat_minor": 0,
  "metadata": {
    "colab": {
      "provenance": []
    },
    "kernelspec": {
      "name": "python3",
      "display_name": "Python 3"
    },
    "language_info": {
      "name": "python"
    }
  },
  "cells": [
    {
      "cell_type": "code",
      "source": [
        "import os\n",
        "import openai\n",
        "import requests\n",
        "from PIL import Image, ImageDraw, ImageFont\n",
        "from io import BytesIO\n",
        "import gradio as gr\n",
        "\n",
        "# AZURE_OPENAI_KEY = os.getenv(\"AZURE_OPENAI_KEY\") # Commented out as we will use the key directly\n",
        "AZURE_OPENAI_ENDPOINT = \"https://yagni-mdcv0tgn-swedencentral.cognitiveservices.azure.com/\"\n",
        "AZURE_OPENAI_API_VERSION = \"2024-02-01\"\n",
        "AZURE_DALLE_DEPLOYMENT = \"dall-e-3\"  # <-- Change this to your actual deployment name\n",
        "\n",
        "# Use the API key directly from cell hud6zgg9JyZt\n",
        "AZURE_OPENAI_KEY = \"8OxaXMhBGwcrCGgsMLFvliEsYqDOiEODk2gI1m2imLPpxF5qCnXeJQQJ99BGACfhMk5XJ3w3AAAAACOGT9fC\"\n",
        "\n",
        "client = openai.AzureOpenAI(\n",
        "    api_key=AZURE_OPENAI_KEY,\n",
        "    api_version=AZURE_OPENAI_API_VERSION,\n",
        "    azure_endpoint=AZURE_OPENAI_ENDPOINT,\n",
        ")\n",
        "\n",
        "def generate_image(prompt):\n",
        "    try:\n",
        "        response = client.images.generate(\n",
        "            prompt=prompt,\n",
        "            n=1,\n",
        "            size=\"1024x1024\",\n",
        "            model=AZURE_DALLE_DEPLOYMENT  # Use the deployment name here\n",
        "        )\n",
        "        image_url = response.data[0].url\n",
        "        image_data = requests.get(image_url).content\n",
        "        image = Image.open(BytesIO(image_data))\n",
        "        return image\n",
        "    except Exception as e:\n",
        "        error_img = Image.new(\"RGB\", (512, 512), color=(255,255,255))\n",
        "        draw = ImageDraw.Draw(error_img)\n",
        "        err_msg = f\"Error:\\n{str(e)}\"\n",
        "        try:\n",
        "            font = ImageFont.truetype(\"arial.ttf\", 18)\n",
        "        except:\n",
        "            font = ImageFont.load_default()\n",
        "        draw.text((10, 10), err_msg, fill=(255,0,0), font=font)\n",
        "        return error_img\n",
        "\n",
        "interface = gr.Interface(\n",
        "    fn=generate_image,\n",
        "    inputs=gr.Textbox(lines=2, label=\"Enter your creative prompt\"),\n",
        "    outputs=gr.Image(type=\"pil\", label=\"Generated Image\"),\n",
        "    title=\"🎨 Azure DALL·E 3 Image Generator\",\n",
        "    description=\"Enter a text prompt and generate a high-quality image using Azure OpenAI DALL·E 3.\"\n",
        ")\n",
        "\n",
        "if __name__ == \"__main__\":\n",
        "    interface.launch(share=True)"
      ],
      "metadata": {
        "colab": {
          "base_uri": "https://localhost:8080/",
          "height": 611
        },
        "id": "FG0z4J7SPmij",
        "outputId": "318072e8-e4c9-4559-9115-ace419160d65"
      },
      "execution_count": 1,
      "outputs": [
        {
          "output_type": "stream",
          "name": "stdout",
          "text": [
            "Colab notebook detected. To show errors in colab notebook, set debug=True in launch()\n",
            "* Running on public URL: https://f1bad89d21a7c2b715.gradio.live\n",
            "\n",
            "This share link expires in 1 week. For free permanent hosting and GPU upgrades, run `gradio deploy` from the terminal in the working directory to deploy to Hugging Face Spaces (https://huggingface.co/spaces)\n"
          ]
        },
        {
          "output_type": "display_data",
          "data": {
            "text/plain": [
              "<IPython.core.display.HTML object>"
            ],
            "text/html": [
              "<div><iframe src=\"https://f1bad89d21a7c2b715.gradio.live\" width=\"100%\" height=\"500\" allow=\"autoplay; camera; microphone; clipboard-read; clipboard-write;\" frameborder=\"0\" allowfullscreen></iframe></div>"
            ]
          },
          "metadata": {}
        }
      ]
    },
    {
      "cell_type": "code",
      "source": [],
      "metadata": {
        "id": "v_PKlh-KPHM-"
      },
      "execution_count": null,
      "outputs": []
    }
  ]
}